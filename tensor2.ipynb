{
 "cells": [
  {
   "cell_type": "code",
   "execution_count": 11,
   "metadata": {},
   "outputs": [],
   "source": [
    "import tensorflow as tf \n"
   ]
  },
  {
   "cell_type": "code",
   "execution_count": null,
   "metadata": {},
   "outputs": [],
   "source": [
    "# creat4e data set\n",
    "x_train = tf.constant([1,2,3,4], dtype=tf.float32) # input\n",
    "y_train = tf.constant([2.5,4.5,6.5,8.5], dtype=tf.float32) #original ans [KEY]"
   ]
  },
  {
   "cell_type": "code",
   "execution_count": null,
   "metadata": {},
   "outputs": [
    {
     "name": "stdout",
     "output_type": "stream",
     "text": [
      "Trained W:  1.9592868\n",
      "Trained b:  0.61970186\n",
      "tf.Tensor([2.5792258 4.53839   6.497555  8.456719 ], shape=(4,), dtype=float32)\n"
     ]
    }
   ],
   "source": [
    "#Define Simple Linear model y=Weight * x+ bias\n",
    "class LinearModel(tf.Module):\n",
    "    def __init__(self):\n",
    "        self.W = tf.Variable(0.0)\n",
    "        self.b = tf.Variable(0.0)\n",
    "\n",
    "    def __call__(self,x):\n",
    "        return self.W * x +self.b\n",
    "    #Loss function(predicted - actual)\n",
    "model = LinearModel()\n",
    "def mse_loss(y_true, y_pred): #finding error. we cant judge a model with one sapmle so we take total by using mse\n",
    "    return tf.reduce_mean(tf.square(y_true - y_pred))\n",
    "#Training the model\n",
    "optimizer = tf.optimizers.SGD(learning_rate=0.01)#learning rate :time or speed for each sample to reach minima (always small number)\n",
    "for epoch in range(100):# 100 cycles\n",
    "    with tf.GradientTape() as tape:\n",
    "        predictions = model(x_train) #checking accuracy at every epoch basesd on trainig\n",
    "        loss = mse_loss(y_train, predictions)\n",
    "    gradients = tape.gradient(loss, [model.W, model.b])\n",
    "    optimizer.apply_gradients(zip(gradients, [model.W, model.b]))\n",
    "print(\"Trained W: \",model.W.numpy())\n",
    "print(\"Trained b: \",model.b.numpy())\n",
    "print(predictions)"
   ]
  }
 ],
 "metadata": {
  "kernelspec": {
   "display_name": "Python 3",
   "language": "python",
   "name": "python3"
  },
  "language_info": {
   "codemirror_mode": {
    "name": "ipython",
    "version": 3
   },
   "file_extension": ".py",
   "mimetype": "text/x-python",
   "name": "python",
   "nbconvert_exporter": "python",
   "pygments_lexer": "ipython3",
   "version": "3.10.12"
  }
 },
 "nbformat": 4,
 "nbformat_minor": 2
}
